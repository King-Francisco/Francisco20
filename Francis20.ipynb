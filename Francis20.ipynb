{
 "cells": [
  {
   "cell_type": "markdown",
   "id": "efb07f17-bb5b-4fd1-bf3a-7f6bfb33e766",
   "metadata": {},
   "source": [
    "# My Jupiter Notebook on IBM Watson Studio"
   ]
  },
  {
   "cell_type": "markdown",
   "id": "0dd62956-9749-41bd-87de-eef0f9157479",
   "metadata": {},
   "source": [
    "**Eze Francis Ikechukwu**\n",
    "\n",
    "Student/Software Analyst"
   ]
  },
  {
   "cell_type": "markdown",
   "id": "121e0c42-cef2-4c51-bb3a-d50d736bb0c2",
   "metadata": {},
   "source": [
    "*I am interested in Data Science because it will enable me to become a software analyst in the future*"
   ]
  },
  {
   "cell_type": "markdown",
   "id": "8f2c9208-8bb3-4bd6-844e-e4f8e6868fa5",
   "metadata": {},
   "source": [
    "### A code to add two numbers"
   ]
  },
  {
   "cell_type": "code",
   "execution_count": 3,
   "id": "88f0a1b3-f318-45de-8ac3-76cfd4980a2b",
   "metadata": {},
   "outputs": [
    {
     "name": "stdout",
     "output_type": "stream",
     "text": [
      "3\n"
     ]
    }
   ],
   "source": [
    "one = 1\n",
    "two = 2\n",
    "print(one + two)"
   ]
  },
  {
   "cell_type": "markdown",
   "id": "1d7250eb-1dc4-4e0e-b4c0-67294ed73a81",
   "metadata": {},
   "source": [
    "Types of Proteins\n",
    "1. Beans\n",
    "2. Eggs\n",
    "3. Meat\n",
    "\n",
    "~~I am not a bad boy~~\n",
    "SN|Boy     | Girl\n",
    "--|:------:|:-----:\n",
    "1.| John   |Felicia\n",
    "2.| Paul   |Mary\n",
    "\n"
   ]
  }
 ],
 "metadata": {
  "kernelspec": {
   "display_name": "Python",
   "language": "python",
   "name": "conda-env-python-py"
  },
  "language_info": {
   "codemirror_mode": {
    "name": "ipython",
    "version": 3
   },
   "file_extension": ".py",
   "mimetype": "text/x-python",
   "name": "python",
   "nbconvert_exporter": "python",
   "pygments_lexer": "ipython3",
   "version": "3.7.12"
  }
 },
 "nbformat": 4,
 "nbformat_minor": 5
}
